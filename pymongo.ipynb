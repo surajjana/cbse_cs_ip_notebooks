{
 "cells": [
  {
   "cell_type": "code",
   "execution_count": null,
   "metadata": {},
   "outputs": [],
   "source": [
    "# Installing MongoDB on Ubuntu\n",
    "#\n",
    "# Step 1: sudo apt-key adv --keyserver hkp://keyserver.ubuntu.com:80 --recv EA312927\n",
    "#\n",
    "# Step 2: echo \"deb http://repo.mongodb.org/apt/ubuntu xenial/mongodb-org/3.2 multiverse\" | sudo tee /etc/apt/sources.list.d/mongodb-org-3.2.list\n",
    "#\n",
    "# Step 3: sudo apt-get update\n",
    "#\n",
    "# Step 4: sudo apt-get install -y mongodb-org\n",
    "#\n",
    "# Step 5: sudo systemctl start mongod\n",
    "#\n",
    "# Step 6: sudo systemctl status mongod\n",
    "\n",
    "# Collection : A group of MongoDB documents\n",
    "#\n",
    "# Document : A document is a set of key-value pairs. Documents have dynamic schema."
   ]
  },
  {
   "cell_type": "raw",
   "metadata": {},
   "source": [
    "CRUD Operations with Mongo\n",
    "\n",
    "$ mongo\n",
    "\n",
    "> show collections\n",
    "> show dbs\n",
    "> use new_db\n",
    "> db.traffic.insert({'type': 'email', 'user_id': 'test_user' })\n",
    "> db.traffic.find().pretty()\n",
    "> db.traffic.find({'type': 'email'}).pretty()\n",
    "> db.traffic.find({'user_id': 'test_user'}).pretty()\n",
    "> db.traffic.update({'_id': ObjectId()},{'$set': {'type': 'fb'}})\n",
    "> db.traffic.remove({'_id': ObjectId()})\n",
    "> db.traffic.drop()"
   ]
  },
  {
   "cell_type": "code",
   "execution_count": 4,
   "metadata": {
    "collapsed": true
   },
   "outputs": [
    {
     "name": "stdout",
     "output_type": "stream",
     "text": [
      "{\"$oid\": \"5aabff7b4dd49f66b48236a1\"}\n"
     ]
    },
    {
     "name": "stderr",
     "output_type": "stream",
     "text": [
      "/usr/local/lib/python2.7/dist-packages/ipykernel_launcher.py:12: DeprecationWarning: insert is deprecated. Use insert_one or insert_many instead.\n",
      "  if sys.path[0] == '':\n"
     ]
    }
   ],
   "source": [
    "# Installing PyMongo\n",
    "#\n",
    "# sudo pip install pymongo\n",
    "\n",
    "from pymongo import MongoClient\n",
    "from bson.json_util import dumps\n",
    "\n",
    "client = MongoClient()\n",
    "db = client.new_db_2\n",
    "\n",
    "# creating a collection\n",
    "cursor = db.traffic.insert({'type': 'email', 'user_id': 'test_user' })\n",
    "\n",
    "data = dumps(cursor)\n",
    "\n",
    "print data"
   ]
  },
  {
   "cell_type": "code",
   "execution_count": 13,
   "metadata": {},
   "outputs": [
    {
     "name": "stdout",
     "output_type": "stream",
     "text": [
      "[{\"type\": \"email\", \"_id\": {\"$oid\": \"5aabff5d4dd49f66b482369e\"}, \"user_id\": \"test_user\"}, {\"type\": \"email\", \"_id\": {\"$oid\": \"5aabff7b4dd49f66b48236a1\"}, \"user_id\": \"test_user\"}]\n"
     ]
    }
   ],
   "source": [
    "# Query data from collection\n",
    "\n",
    "cursor = db.traffic.find()\n",
    "\n",
    "data = dumps(cursor)\n",
    "\n",
    "print data"
   ]
  },
  {
   "cell_type": "code",
   "execution_count": 9,
   "metadata": {
    "collapsed": true
   },
   "outputs": [
    {
     "name": "stdout",
     "output_type": "stream",
     "text": [
      "{\"updatedExisting\": true, \"nModified\": 1, \"ok\": 1, \"n\": 1}\n"
     ]
    },
    {
     "name": "stderr",
     "output_type": "stream",
     "text": [
      "/usr/local/lib/python2.7/dist-packages/ipykernel_launcher.py:5: DeprecationWarning: update is deprecated. Use replace_one, update_one or update_many instead.\n",
      "  \"\"\"\n"
     ]
    }
   ],
   "source": [
    "# Update document\n",
    "\n",
    "from bson.objectid import ObjectId\n",
    "\n",
    "cursor = db.traffic.update({\"_id\": ObjectId(\"5aabff494dd49f66b482369c\")}, {'$set': {'type': 'fb'}})\n",
    "\n",
    "data = dumps(cursor)\n",
    "\n",
    "print data"
   ]
  },
  {
   "cell_type": "code",
   "execution_count": 12,
   "metadata": {},
   "outputs": [
    {
     "name": "stdout",
     "output_type": "stream",
     "text": [
      "{\"ok\": 1, \"n\": 1}\n"
     ]
    },
    {
     "name": "stderr",
     "output_type": "stream",
     "text": [
      "/usr/local/lib/python2.7/dist-packages/ipykernel_launcher.py:3: DeprecationWarning: remove is deprecated. Use delete_one or delete_many instead.\n",
      "  This is separate from the ipykernel package so we can avoid doing imports until\n"
     ]
    }
   ],
   "source": [
    "# Removing document\n",
    "\n",
    "cursor = db.traffic.remove({'_id': ObjectId('5aabff494dd49f66b482369c')})\n",
    "\n",
    "data = dumps(cursor)\n",
    "\n",
    "print data"
   ]
  },
  {
   "cell_type": "code",
   "execution_count": null,
   "metadata": {},
   "outputs": [],
   "source": []
  }
 ],
 "metadata": {
  "kernelspec": {
   "display_name": "Python 2",
   "language": "python",
   "name": "python2"
  },
  "language_info": {
   "codemirror_mode": {
    "name": "ipython",
    "version": 2
   },
   "file_extension": ".py",
   "mimetype": "text/x-python",
   "name": "python",
   "nbconvert_exporter": "python",
   "pygments_lexer": "ipython2",
   "version": "2.7.12"
  }
 },
 "nbformat": 4,
 "nbformat_minor": 2
}
